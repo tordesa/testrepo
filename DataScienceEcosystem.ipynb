{
 "cells": [
  {
   "cell_type": "markdown",
   "id": "92578364-d867-4a27-ae99-99540f00245f",
   "metadata": {},
   "source": [
    "# Data Science Tools and Ecosystem"
   ]
  },
  {
   "cell_type": "markdown",
   "id": "18dbfecc-a1ae-4f10-86bc-a751f1603b25",
   "metadata": {},
   "source": [
    "## In this notebook, Data Science Tools and Ecosystem are summarized"
   ]
  },
  {
   "cell_type": "markdown",
   "id": "4ac6bc39-f04c-4a7b-a798-1b76cdce97b6",
   "metadata": {},
   "source": [
    "**Objectives:**\n",
    "- some popular languages used by Data Scientist\n",
    "- commonly used libraries used by Data Scientists\n",
    "- Some Data Science Tools\n",
    "- Evaluating arithmetic operation in python\n"
   ]
  },
  {
   "cell_type": "markdown",
   "id": "87a8a3bb-0c9a-44df-9085-e23c684e2ca9",
   "metadata": {
    "tags": []
   },
   "source": [
    "### Some of the popular languages that Data Acientists use are:\n",
    "1. Python\n",
    "2. R\n",
    "3. Julia\n",
    "4. Java\n",
    "5. Scala\n",
    "6. C++"
   ]
  },
  {
   "cell_type": "markdown",
   "id": "a14985ab-3c34-4c0e-928f-5e0e38d181a1",
   "metadata": {},
   "source": [
    "### Some of the commonly used libraries used by Data Scientists Include:\n",
    "1. Pandas\n",
    "2. Matplotlib\n",
    "3. Numpy\n",
    "4. Seaborn\n",
    "5. Tensorflow\n",
    "6. Pytorch\n"
   ]
  },
  {
   "cell_type": "markdown",
   "id": "df75c584-e4a2-45b6-afb0-5dc9f9f714ad",
   "metadata": {},
   "source": [
    "| Data Science tools  |\n",
    "|-----------------------|\n",
    "| Jupyter notebook    |\n",
    "| Sypder              |\n",
    "| R Studio |\n"
   ]
  },
  {
   "cell_type": "markdown",
   "id": "ea411310-f45a-4b1a-a64a-500940af2113",
   "metadata": {
    "tags": []
   },
   "source": [
    " ### Below are a few examples of evaluating arithmetic expressions in Python"
   ]
  },
  {
   "cell_type": "code",
   "execution_count": 3,
   "id": "06bdd2d5-e6c6-4586-82bf-f6c49074ddbd",
   "metadata": {
    "tags": []
   },
   "outputs": [
    {
     "data": {
      "text/plain": [
       "17"
      ]
     },
     "execution_count": 3,
     "metadata": {},
     "output_type": "execute_result"
    }
   ],
   "source": [
    "# This is a simple arithmetic expression to multiply then add integers\n",
    "\n",
    "(3*4)+5"
   ]
  },
  {
   "cell_type": "code",
   "execution_count": 13,
   "id": "e1c9e3e7-7130-48a4-8e69-bdca297ed6cb",
   "metadata": {
    "tags": []
   },
   "outputs": [
    {
     "name": "stdout",
     "output_type": "stream",
     "text": [
      "There are 3.0 hour(s) in  200 minutes\n"
     ]
    }
   ],
   "source": [
    "# This will convert 200 minutes to hours by diving by 60\n",
    "minutes = 200\n",
    "one_hour = 60 \n",
    "hours = minutes // one_hour\n",
    "print(f'There are {hours:.1f} hour(s) in  {minutes} minutes')"
   ]
  },
  {
   "cell_type": "markdown",
   "id": "ccfbecdd-24c1-4b3e-af53-59e9d92760b1",
   "metadata": {},
   "source": [
    "## Author\n",
    "Anthony Omoijahe"
   ]
  },
  {
   "cell_type": "code",
   "execution_count": null,
   "id": "d288687a-b273-4b30-ba7a-a5f4741e365b",
   "metadata": {},
   "outputs": [],
   "source": []
  }
 ],
 "metadata": {
  "kernelspec": {
   "display_name": "Python",
   "language": "python",
   "name": "conda-env-python-py"
  },
  "language_info": {
   "codemirror_mode": {
    "name": "ipython",
    "version": 3
   },
   "file_extension": ".py",
   "mimetype": "text/x-python",
   "name": "python",
   "nbconvert_exporter": "python",
   "pygments_lexer": "ipython3",
   "version": "3.7.12"
  }
 },
 "nbformat": 4,
 "nbformat_minor": 5
}
